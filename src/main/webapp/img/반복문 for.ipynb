{
 "cells": [
  {
   "cell_type": "markdown",
   "id": "06f94b5b",
   "metadata": {},
   "source": [
    "#### 반복문 for\n",
    "\n",
    "> for 변수 in 나열가능한자료 :\n",
    "\n",
    "리스트 - []안에 값을 나열해 놓은 형식입니다."
   ]
  },
  {
   "cell_type": "code",
   "execution_count": 1,
   "id": "9f5e645e",
   "metadata": {},
   "outputs": [
    {
     "name": "stdout",
     "output_type": "stream",
     "text": [
      "리스트라는 요소안에 값의 합:  55\n"
     ]
    }
   ],
   "source": [
    "sum1 = 0 # 합계 누적할 변수\n",
    "for i in range(11) :\n",
    "    \n",
    "    sum1 += i\n",
    "    \n",
    "print(\"리스트라는 요소안에 값의 합: \", sum1)    "
   ]
  },
  {
   "cell_type": "code",
   "execution_count": 3,
   "id": "81f86309",
   "metadata": {},
   "outputs": [
    {
     "name": "stdout",
     "output_type": "stream",
     "text": [
      "6\n"
     ]
    }
   ],
   "source": [
    "sum1 = 0\n",
    "for i in [1, 2, 3] :\n",
    "    sum1 += i\n",
    "print(sum1)    "
   ]
  },
  {
   "cell_type": "markdown",
   "id": "c8271af8",
   "metadata": {},
   "source": [
    "#### range함수\n",
    "\n",
    "- 리스트를 생성할 때 일일히 하나씩 다 적는건 한계가 있습니다.\n",
    "- range(시작값, 끝값, 점핑값) 을 통해서 리스트를 좀 더 쉽게 생성할 수 있습니다."
   ]
  },
  {
   "cell_type": "code",
   "execution_count": 11,
   "id": "38fb0dca",
   "metadata": {},
   "outputs": [],
   "source": [
    "list(range(1,11)) # range 함수는 시작값은 포함이고 끝값은 미만이다. 그리고 점핑값은 생략이 가능하다\n",
    "\n",
    "list1 = list(range(1,11)) # 변수에도 저장해서 사용가능\n",
    "\n",
    "list2 = list(range(2, 11, 2)) # [2, 4, 6, 8, 10]\n",
    "\n",
    "list3 = list(range(1, 11, 1)) # == list( 1, 11)"
   ]
  },
  {
   "cell_type": "code",
   "execution_count": 14,
   "id": "a8c7af2a",
   "metadata": {},
   "outputs": [
    {
     "name": "stdout",
     "output_type": "stream",
     "text": [
      "1 2 3 4 5 6 7 8 9 10 "
     ]
    }
   ],
   "source": [
    "for i in range(1, 11) :\n",
    "    print(i, end=\" \")"
   ]
  },
  {
   "cell_type": "code",
   "execution_count": 19,
   "id": "47183bd8",
   "metadata": {},
   "outputs": [
    {
     "name": "stdout",
     "output_type": "stream",
     "text": [
      "[1, 2, 3, 4, 5, 6, 7, 8, 9, 10]\n"
     ]
    }
   ],
   "source": [
    "print(list(range(1,11)))"
   ]
  },
  {
   "cell_type": "code",
   "execution_count": 47,
   "id": "6ba70793",
   "metadata": {},
   "outputs": [
    {
     "name": "stdout",
     "output_type": "stream",
     "text": [
      "7 14 21 28 35 42 49 56 63 70 77 84 91 98 105 112 119 126 133 140 147 154 161 168 175 182 189 196 759\n",
      "759\n",
      "단계를 입력하세요> 4\n",
      "4 x 1 = 4\n",
      "4 x 2 = 8\n",
      "4 x 3 = 12\n",
      "4 x 4 = 16\n",
      "4 x 5 = 20\n",
      "4 x 6 = 24\n",
      "4 x 7 = 28\n",
      "4 x 8 = 32\n",
      "4 x 9 = 36\n"
     ]
    }
   ],
   "source": [
    "# 7 ~ 200까지 정수 중에서 점핑값을 7로 해서 7의 배수를 가로로 출력\n",
    "\n",
    "for i in range(7, 201, 7) :\n",
    "    print(i,end = \" \")\n",
    "\n",
    "\n",
    "\n",
    "# 1~ 9876까지 정수 중에서 13의 배수의 개수를 구하세요.\n",
    "\n",
    "# if사용\n",
    "cnt = 0\n",
    "for i in range(1, 9877) :\n",
    "        if i % 13 == 0 :\n",
    "            cnt += 1\n",
    "\n",
    "print(cnt)   \n",
    "\n",
    "# 점핑값 사용\n",
    "cnt1 = 0 \n",
    "for i in range(13, 9877, 13) :\n",
    "    cnt1 += 1\n",
    "        \n",
    "    \n",
    "print(cnt1)\n",
    "\n",
    "# 구구단 단수를 입력받고 for문을 이용해서 구구단을 출력\n",
    "s1 = int(input(\"단계를 입력하세요> \"))\n",
    "for i in range(1, 10) :\n",
    "    print(f\"{s1} x {i} = {s1*i}\")\n",
    "    \n",
    "\n",
    "        \n"
   ]
  },
  {
   "cell_type": "markdown",
   "id": "12b5393f",
   "metadata": {},
   "source": [
    "#### 중처반복\n",
    "\n",
    "- 외부 반복문 안에 내부에서 반복문이 존재하는 형태"
   ]
  },
  {
   "cell_type": "code",
   "execution_count": 49,
   "id": "5bb10fd4",
   "metadata": {},
   "outputs": [
    {
     "name": "stdout",
     "output_type": "stream",
     "text": [
      "1 - 1\n",
      "1 - 2\n",
      "1 - 3\n",
      "1 - 4\n",
      "1 - 5\n",
      "2 - 1\n",
      "2 - 2\n",
      "2 - 3\n",
      "2 - 4\n",
      "2 - 5\n",
      "3 - 1\n",
      "3 - 2\n",
      "3 - 3\n",
      "3 - 4\n",
      "3 - 5\n",
      "4 - 1\n",
      "4 - 2\n",
      "4 - 3\n",
      "4 - 4\n",
      "4 - 5\n",
      "5 - 1\n",
      "5 - 2\n",
      "5 - 3\n",
      "5 - 4\n",
      "5 - 5\n",
      "6 - 1\n",
      "6 - 2\n",
      "6 - 3\n",
      "6 - 4\n",
      "6 - 5\n",
      "7 - 1\n",
      "7 - 2\n",
      "7 - 3\n",
      "7 - 4\n",
      "7 - 5\n",
      "8 - 1\n",
      "8 - 2\n",
      "8 - 3\n",
      "8 - 4\n",
      "8 - 5\n",
      "9 - 1\n",
      "9 - 2\n",
      "9 - 3\n",
      "9 - 4\n",
      "9 - 5\n"
     ]
    }
   ],
   "source": [
    "for i in range(1, 10) : # 1~ 9\n",
    "    for j in range(1, 6) : # 1 ~ 5\n",
    "         print(i, '-', j)"
   ]
  },
  {
   "cell_type": "code",
   "execution_count": 63,
   "id": "7084a971",
   "metadata": {},
   "outputs": [
    {
     "name": "stdout",
     "output_type": "stream",
     "text": [
      "구구단 2단\n",
      "2 x 1 = 2\n",
      "2 x 2 = 4\n",
      "2 x 3 = 6\n",
      "2 x 4 = 8\n",
      "2 x 5 = 10\n",
      "2 x 6 = 12\n",
      "2 x 7 = 14\n",
      "2 x 8 = 16\n",
      "2 x 9 = 18\n",
      "\n",
      "구구단 3단\n",
      "3 x 1 = 3\n",
      "3 x 2 = 6\n",
      "3 x 3 = 9\n",
      "3 x 4 = 12\n",
      "3 x 5 = 15\n",
      "3 x 6 = 18\n",
      "3 x 7 = 21\n",
      "3 x 8 = 24\n",
      "3 x 9 = 27\n",
      "\n",
      "구구단 4단\n",
      "4 x 1 = 4\n",
      "4 x 2 = 8\n",
      "4 x 3 = 12\n",
      "4 x 4 = 16\n",
      "4 x 5 = 20\n",
      "4 x 6 = 24\n",
      "4 x 7 = 28\n",
      "4 x 8 = 32\n",
      "4 x 9 = 36\n",
      "\n",
      "구구단 5단\n",
      "5 x 1 = 5\n",
      "5 x 2 = 10\n",
      "5 x 3 = 15\n",
      "5 x 4 = 20\n",
      "5 x 5 = 25\n",
      "5 x 6 = 30\n",
      "5 x 7 = 35\n",
      "5 x 8 = 40\n",
      "5 x 9 = 45\n",
      "\n",
      "구구단 6단\n",
      "6 x 1 = 6\n",
      "6 x 2 = 12\n",
      "6 x 3 = 18\n",
      "6 x 4 = 24\n",
      "6 x 5 = 30\n",
      "6 x 6 = 36\n",
      "6 x 7 = 42\n",
      "6 x 8 = 48\n",
      "6 x 9 = 54\n",
      "\n",
      "구구단 7단\n",
      "7 x 1 = 7\n",
      "7 x 2 = 14\n",
      "7 x 3 = 21\n",
      "7 x 4 = 28\n",
      "7 x 5 = 35\n",
      "7 x 6 = 42\n",
      "7 x 7 = 49\n",
      "7 x 8 = 56\n",
      "7 x 9 = 63\n",
      "\n",
      "구구단 8단\n",
      "8 x 1 = 8\n",
      "8 x 2 = 16\n",
      "8 x 3 = 24\n",
      "8 x 4 = 32\n",
      "8 x 5 = 40\n",
      "8 x 6 = 48\n",
      "8 x 7 = 56\n",
      "8 x 8 = 64\n",
      "8 x 9 = 72\n",
      "\n"
     ]
    }
   ],
   "source": [
    "# 실습 \n",
    "\n",
    "for i in range(2,9) :\n",
    "    print(f\"구구단 {i}단\")\n",
    "    \n",
    "    for j in range(1,10) :\n",
    "        print(f\"{i} x {j} = {i*j}\")\n",
    "    print()    "
   ]
  },
  {
   "cell_type": "code",
   "execution_count": 93,
   "id": "8de4b8a3",
   "metadata": {},
   "outputs": [
    {
     "name": "stdout",
     "output_type": "stream",
     "text": [
      "*\n",
      "**\n",
      "***\n",
      "****\n",
      "*****\n",
      "----------------------------------------\n",
      "*****\n",
      "****\n",
      "***\n",
      "**\n",
      "*\n"
     ]
    }
   ],
   "source": [
    "for i in range(1,6) :\n",
    "    for j in range(1,i + 1) :\n",
    "        print(\"*\", end=\"\")\n",
    "    print()\n",
    "    \n",
    "star = 6\n",
    "\n",
    "\n",
    "print(\"-\" * 40)\n",
    "\n",
    "\n",
    "\n",
    "for i in range (1,6) :\n",
    "    for j in range(1 , star - i + 1):\n",
    "        print(\"*\", end ='')\n",
    "    print()    \n",
    "        "
   ]
  },
  {
   "cell_type": "code",
   "execution_count": 113,
   "id": "aaefea7e",
   "metadata": {},
   "outputs": [
    {
     "name": "stdout",
     "output_type": "stream",
     "text": [
      "     **\n",
      "    ***\n",
      "   ****\n",
      "  *****\n",
      " ******\n"
     ]
    }
   ],
   "source": [
    "for i in range(1, 6) :\n",
    "    for j in range (1, 6 - i + 1) :\n",
    "        print(\" \", end = \"\")\n",
    "    \n",
    "    for k in range (1, i + 2) :\n",
    "        print(\"*\", end = \"\")\n",
    "    print()    "
   ]
  },
  {
   "cell_type": "code",
   "execution_count": null,
   "id": "a5dd75f5",
   "metadata": {},
   "outputs": [],
   "source": []
  },
  {
   "cell_type": "code",
   "execution_count": null,
   "id": "94bb8c1e",
   "metadata": {},
   "outputs": [],
   "source": []
  }
 ],
 "metadata": {
  "kernelspec": {
   "display_name": "Python 3 (ipykernel)",
   "language": "python",
   "name": "python3"
  },
  "language_info": {
   "codemirror_mode": {
    "name": "ipython",
    "version": 3
   },
   "file_extension": ".py",
   "mimetype": "text/x-python",
   "name": "python",
   "nbconvert_exporter": "python",
   "pygments_lexer": "ipython3",
   "version": "3.11.5"
  }
 },
 "nbformat": 4,
 "nbformat_minor": 5
}
