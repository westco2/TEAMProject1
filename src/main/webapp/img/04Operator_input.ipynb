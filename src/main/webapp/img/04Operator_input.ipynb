{
 "cells": [
  {
   "cell_type": "markdown",
   "id": "12789d5a",
   "metadata": {},
   "source": [
    "#### 문자열 연산"
   ]
  },
  {
   "cell_type": "code",
   "execution_count": null,
   "id": "838b3b8a",
   "metadata": {},
   "outputs": [],
   "source": [
    "s1 = \"오늘 저녁은\";\n",
    "s2 = \"치킨이다\";\n",
    "\n",
    "s3 = s1 + s2;\n",
    "print(s3);\n",
    "\n",
    "print(s1 + s2 + \"! 와 맛있겠다!\" + \" 비비큐로 먹어야지!\");"
   ]
  },
  {
   "cell_type": "code",
   "execution_count": null,
   "id": "9bbee3b8",
   "metadata": {},
   "outputs": [],
   "source": [
    "#파이썬에서는 문자열 곱셈도 가능합니다.\n",
    "a = 'winner winner chichken dinner'\n",
    "print(a*3)"
   ]
  },
  {
   "cell_type": "code",
   "execution_count": null,
   "id": "2e7e61ce",
   "metadata": {},
   "outputs": [],
   "source": [
    "#문자열과 서로 다른 타입은 연산이 허용되지 않음\n",
    "# print(a + 10);"
   ]
  },
  {
   "cell_type": "markdown",
   "id": "ea3c6fe7",
   "metadata": {},
   "source": [
    "#### 형변환\n",
    "- int()\n",
    "- float()\n",
    "- str()\n",
    "- bool()"
   ]
  },
  {
   "cell_type": "code",
   "execution_count": null,
   "id": "45c87651",
   "metadata": {},
   "outputs": [],
   "source": [
    "name = '홍길동'\n",
    "point = 90;\n",
    "\n",
    "print(name + '님의 점수는 ' + str(point) + '입니다.')\n",
    "\n",
    "\n",
    "int(3.14)\n",
    "float(True) # 암묵적으로 0 은 False , 1 은 True "
   ]
  },
  {
   "cell_type": "code",
   "execution_count": null,
   "id": "3dc7c428",
   "metadata": {},
   "outputs": [],
   "source": [
    "str(point); # '90'\n",
    "float(point) # '90.0'\n",
    "int(3.14) # 3\n",
    "bool(0) # 논리형으로 변경\n",
    "\n",
    "# int(name) 바뀔 수 업는 값은 형 변환시에 에러를 발생시킴"
   ]
  },
  {
   "cell_type": "code",
   "execution_count": null,
   "id": "ecddbf46",
   "metadata": {},
   "outputs": [],
   "source": [
    "# 현재 poinr는 무슨 타입인가요?\n",
    "# 형변환 함수를 사용한다고 해서 원본변수가 바뀌는 것은 아닙니다.\n",
    "type(point)\n",
    "# 원본변수를 바꿔서 새로운 변수로 사용을 하려면 \n",
    "x = str(point);\n",
    "type(x)\n",
    "\n",
    "y = int(3.14);\n",
    "y\n",
    "# 문자열 => 실수형 => 정수형 => 변수저장\n",
    "z = \"3.141592\"\n",
    "float(z)\n",
    "k =int( float(z))\n",
    "print(k);\n",
    "\n",
    "type(k)\n"
   ]
  },
  {
   "cell_type": "markdown",
   "id": "5a31ec05",
   "metadata": {},
   "source": [
    "#### 표준 입력 input() "
   ]
  },
  {
   "cell_type": "code",
   "execution_count": 9,
   "id": "193c6a71",
   "metadata": {},
   "outputs": [
    {
     "name": "stdout",
     "output_type": "stream",
     "text": [
      "\n",
      "입력한 값은 :\n"
     ]
    }
   ],
   "source": [
    "a1 = input()\n",
    "\n",
    "\n",
    "print('입력한 값은 :' + a1);"
   ]
  },
  {
   "cell_type": "code",
   "execution_count": 46,
   "id": "2ba37147",
   "metadata": {},
   "outputs": [
    {
     "name": "stdout",
     "output_type": "stream",
     "text": [
      "너 별명이 뭐니?ㄴㄴㄴ\n",
      "너의 별명은: ㄴㄴㄴ\n"
     ]
    }
   ],
   "source": [
    "# 사용자에게 질문할 내용을 문자열 형태로 적습니다.\n",
    "a2 = input('너 별명이 뭐니?'); \n",
    "\n",
    "print('너의 별명은: ' + a2);"
   ]
  },
  {
   "cell_type": "code",
   "execution_count": 47,
   "id": "99eb63b4",
   "metadata": {},
   "outputs": [
    {
     "name": "stdout",
     "output_type": "stream",
     "text": [
      "너 별명이 뭐니?sss\n",
      "너의 별명은: sss\n"
     ]
    }
   ],
   "source": []
  },
  {
   "cell_type": "code",
   "execution_count": null,
   "id": "cde3e8c8",
   "metadata": {},
   "outputs": [],
   "source": []
  },
  {
   "cell_type": "code",
   "execution_count": 14,
   "id": "af3e6250",
   "metadata": {},
   "outputs": [
    {
     "name": "stdout",
     "output_type": "stream",
     "text": [
      "숫자입력>3\n",
      "숫자입력>3\n",
      "내가 입력한 숫자는 :  6\n"
     ]
    }
   ],
   "source": [
    "n1 = int(input('숫자입력>'));\n",
    "n2 = int(input('숫자입력>'));\n",
    "\n",
    "print('내가 입력한 숫자는 : ', n1 + n2)"
   ]
  },
  {
   "cell_type": "code",
   "execution_count": 45,
   "id": "ae992e39",
   "metadata": {},
   "outputs": [
    {
     "name": "stdout",
     "output_type": "stream",
     "text": [
      "이름을 입력하세요: 서명인\n",
      "나이를 입력하세요: 28\n",
      "------------------------------\n",
      "이름: 서명인\n",
      "나이: 28세\n",
      "출생년도: 1995년\n"
     ]
    }
   ],
   "source": [
    "p1 = input('이름을 입력하세요: ')\n",
    "p2 = int(input('나이를 입력하세요: '))\n",
    "p3 = 2023 - p2\n",
    "print('-' * 30);\n",
    "print(\"이름: \" + p1 + \"\\n나이: \" + str(p2) + \"세\" + \"\\n출생년도: \" + str(p3) + \"년\" )"
   ]
  },
  {
   "cell_type": "code",
   "execution_count": 32,
   "id": "e568a878",
   "metadata": {},
   "outputs": [
    {
     "name": "stdout",
     "output_type": "stream",
     "text": [
      "음식의 가격:4000\n",
      "사람 수:10\n",
      "------------------------------\n",
      "가게에 지불해야 할 금액: 40000 원\n"
     ]
    }
   ],
   "source": [
    "t1 = int(input(\"음식의 가격:\"));\n",
    "t2 = int(input(\"사람 수:\"));\n",
    "print(\"-\" * 30);\n",
    "print(\"가게에 지불해야 할 금액:\", t1 * t2, \"원\") \n",
    "# print('가게에 지불해야 할 금액:' + str(t1 + t2) + \"원\") "
   ]
  }
 ],
 "metadata": {
  "kernelspec": {
   "display_name": "Python 3 (ipykernel)",
   "language": "python",
   "name": "python3"
  },
  "language_info": {
   "codemirror_mode": {
    "name": "ipython",
    "version": 3
   },
   "file_extension": ".py",
   "mimetype": "text/x-python",
   "name": "python",
   "nbconvert_exporter": "python",
   "pygments_lexer": "ipython3",
   "version": "3.11.5"
  }
 },
 "nbformat": 4,
 "nbformat_minor": 5
}
