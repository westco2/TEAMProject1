{
 "cells": [
  {
   "cell_type": "markdown",
   "id": "df49bcad",
   "metadata": {},
   "source": [
    "#### 마크다운 영역은 작성할 내용을 정리하는 란입니다.\n",
    "단축키\n",
    "- a : 위에 셀\n",
    "- b : 아래에 셀\n",
    "- dd : 셀 삭제하기\n",
    "- m,y : 코드 or 마크다운\n",
    "- ctrl + 엔터 : 해당코드 실행\n",
    "- shift + 엔터 : 해당 코드 실행 다음으로이동\n",
    "- ctrl + a : 전체선택\n",
    "- ctrl + z : 되돌리기"
   ]
  },
  {
   "cell_type": "code",
   "execution_count": 3,
   "id": "4d284447",
   "metadata": {},
   "outputs": [
    {
     "name": "stdout",
     "output_type": "stream",
     "text": [
      "mark down\n"
     ]
    }
   ],
   "source": [
    "print(\"mark down\")"
   ]
  },
  {
   "cell_type": "markdown",
   "id": "6c012709",
   "metadata": {},
   "source": [
    "### 주석문이란?\n",
    "\n",
    "주석문은 프로그램 실행에 전혀 영향을 미치지 않는 문장입니다.\n",
    "첨언하는 용도로 사용합니다."
   ]
  },
  {
   "cell_type": "code",
   "execution_count": 5,
   "id": "1bd10185",
   "metadata": {},
   "outputs": [],
   "source": [
    "# print(\"주석문이란\") # ctrl + / 가 빠른주석 단축키"
   ]
  },
  {
   "cell_type": "code",
   "execution_count": 9,
   "id": "52bdf59d",
   "metadata": {},
   "outputs": [
    {
     "data": {
      "text/plain": [
       "10"
      ]
     },
     "execution_count": 9,
     "metadata": {},
     "output_type": "execute_result"
    }
   ],
   "source": [
    "# 1 + 1\n",
    "# 'hello'\n",
    "# 10\n",
    "# 주피터 노트북은 print문장이 없어도 항상 맨마지막 문장을 실행"
   ]
  },
  {
   "cell_type": "code",
   "execution_count": 17,
   "id": "09a6adfb",
   "metadata": {},
   "outputs": [
    {
     "name": "stdout",
     "output_type": "stream",
     "text": [
      "2\n",
      "hello\n",
      "world\n"
     ]
    }
   ],
   "source": [
    "# 세미콜론은 마침표의 의미 파이썬에서는 문장 끝에서 세미콜론을 붙이지 않아도 됩니다.\n",
    "print(1+1)\n",
    "print(\"hello\");\n",
    "print(\"world\");\n",
    "# 파이썬에서 들여쓰기는 허용되지 않습니다.    \n",
    "#    print(\"아 이거 이상하네\")\n",
    "# 모든 프로그램 언어는 대소문자를 정확히 구분합니다.\n",
    "# Print(\"아 이거도 이상하네\")"
   ]
  },
  {
   "cell_type": "code",
   "execution_count": null,
   "id": "74007ae7",
   "metadata": {},
   "outputs": [],
   "source": []
  }
 ],
 "metadata": {
  "kernelspec": {
   "display_name": "Python 3 (ipykernel)",
   "language": "python",
   "name": "python3"
  },
  "language_info": {
   "codemirror_mode": {
    "name": "ipython",
    "version": 3
   },
   "file_extension": ".py",
   "mimetype": "text/x-python",
   "name": "python",
   "nbconvert_exporter": "python",
   "pygments_lexer": "ipython3",
   "version": "3.11.5"
  }
 },
 "nbformat": 4,
 "nbformat_minor": 5
}
